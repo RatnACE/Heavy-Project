{
 "cells": [
  {
   "cell_type": "code",
   "execution_count": 1,
   "id": "6961d24c",
   "metadata": {},
   "outputs": [
    {
     "name": "stderr",
     "output_type": "stream",
     "text": [
      "C:\\Users\\ratne\\facerec.ipynb:28: SyntaxWarning: \"is\" with a literal. Did you mean \"==\"?\n",
      "  \"rkrmodel = cv2.face.LBPHFaceRecognizer_create()\\n\",\n"
     ]
    }
   ],
   "source": [
    "import tkinter as tk\n",
    "import subprocess\n",
    "def button1_clicked():\n",
    "    import ipynb.fs.full.volume\n",
    "    print(\"Button pressed!\")\n",
    "\n",
    "\n",
    "\n",
    "def button2_clicked():\n",
    "    # Create the main window\n",
    "    def print_output():\n",
    "    # Get the user input from the entry field\n",
    "        user_input = entry.get()\n",
    "\n",
    "    # Update the label with the user input\n",
    "        output_label.config(text=\"\"+subprocess.getoutput(user_input))\n",
    "\n",
    "# Create the main window\n",
    "    window2 = tk.Tk()\n",
    "    window2.title(\"System commands\")\n",
    "    window2.geometry(\"500x300\")\n",
    "\n",
    "# Create an entry field for user input\n",
    "    entry = tk.Entry(window2)\n",
    "    entry.pack()\n",
    "\n",
    "# Create a button\n",
    "    button = tk.Button(window2, text=\"run command\", command=print_output)\n",
    "    button.pack()\n",
    "\n",
    "# Create a label to display the output\n",
    "    output_label = tk.Label(window2, text=\"\")\n",
    "    output_label.pack()\n",
    "\n",
    "# Start the main window's event loop\n",
    "    window.mainloop()\n",
    "\n",
    "    print(\"Button 2 clicked\")\n",
    "\n",
    "def button3_clicked():\n",
    "    import ipynb.fs.full.assistant\n",
    "    print(\"Button pressed!\")\n",
    "def button4_clicked():\n",
    "    import os\n",
    "    os.chdir(\"C://Users/ratne/OneDrive/Desktop/summer flutter/newprof\")\n",
    "    os.system(\"flutter run\")\n",
    "    print(os.system(\"ls\"))\n",
    "#def button4_clicked():\n",
    " #   print(\"Button 3 clicked\")\n",
    "def button5_clicked():\n",
    "    import webbrowser\n",
    "    webbrowser.open('http://3.110.117.230/', new=2)\n",
    "def button6_clicked():\n",
    "    import ipynb.fs.full.polly\n",
    "def button7_clicked():\n",
    "    import ipynb.fs.full.rmbg \n",
    "def button8_clicked():\n",
    "    import ipynb.fs.full.langc\n",
    "    \n",
    "    print(\"insidddeeee\")\n",
    "def button9_clicked():\n",
    "    import ipynb.fs.full.lifeexp\n",
    "def button10_clicked():\n",
    "    import ipynb.fs.full.facerec\n",
    "\n",
    "# Create the main window\n",
    "window = tk.Tk()\n",
    "window.title(\"Heavy project\")\n",
    "window.geometry(\"800x800\")\n",
    "window.configure(bg=\"black\")\n",
    "\n",
    "# Create buttons\n",
    "button1 = tk.Button(window, text=\"Volume Controller\", command=button1_clicked, width=25, bg=\"hotpink\",font=(\"Arial\", 25), relief=\"ridge\")\n",
    "button2 = tk.Button(window, text=\"system Commands\", command=button2_clicked, width=25, bg=\"cyan\",font=(\"Arial\", 25), relief=\"ridge\")\n",
    "button3 = tk.Button(window, text=\"Voice Assistant\", command=button3_clicked, width=25, bg=\"hotpink\",font=(\"Arial\", 25), relief=\"ridge\")\n",
    "button4 = tk.Button(window, text=\"flutter app\", command=button4_clicked, width=25, bg=\"cyan\",font=(\"Arial\", 25), relief=\"ridge\")\n",
    "button5 = tk.Button(window, text=\"Web devlopment\", command=button5_clicked, width=25, bg=\"hotpink\",font=(\"Arial\", 25), relief=\"ridge\")\n",
    "button6 = tk.Button(window, text=\"polly\", command=button6_clicked, width=25, bg=\"cyan\",font=(\"Arial\", 25), relief=\"ridge\")\n",
    "button8 = tk.Button(window, text=\"CSV Lang chain\", command=button8_clicked, width=25, bg=\"hotpink\",font=(\"Arial\", 25), relief=\"ridge\")\n",
    "button7 = tk.Button(window, text=\"Background Remover\", command=button7_clicked, width=25, bg=\"cyan\",font=(\"Arial\", 25), relief=\"ridge\")\n",
    "button9 = tk.Button(window, text=\"Life Expectency Predictor\", command=button9_clicked, width=25, bg=\"hotpink\",font=(\"Arial\", 25), relief=\"ridge\")\n",
    "button10= tk.Button(window, text=\"RAM detector\", command=button10_clicked, width=25, bg=\"cyan\",font=(\"Arial\", 25), relief=\"ridge\")\n",
    "button11= tk.Button(window, text=\" \", width=5,height=25, bg=\"#f0d032\",font=(\"Arial\", 25), relief=\"ridge\")\n",
    "\n",
    "\n",
    "# Add buttons to the window\n",
    "button1.pack()\n",
    "button2.pack()\n",
    "button3.pack()\n",
    "button4.pack()\n",
    "button5.pack()\n",
    "button6.pack()\n",
    "button8.pack()\n",
    "button7.pack()\n",
    "button9.pack()\n",
    "button10.pack()\n",
    "button11.pack()\n",
    "\n",
    "\n",
    "\n",
    "# Start the main window's event loop\n",
    "window.mainloop()\n"
   ]
  },
  {
   "cell_type": "code",
   "execution_count": 1,
   "id": "97bbc337",
   "metadata": {},
   "outputs": [
    {
     "name": "stdout",
     "output_type": "stream",
     "text": [
      "Python 3.11.4\n"
     ]
    }
   ],
   "source": [
    "! python --version"
   ]
  },
  {
   "cell_type": "code",
   "execution_count": null,
   "id": "41c6e853",
   "metadata": {},
   "outputs": [],
   "source": []
  }
 ],
 "metadata": {
  "kernelspec": {
   "display_name": "Python 3 (ipykernel)",
   "language": "python",
   "name": "python3"
  },
  "language_info": {
   "codemirror_mode": {
    "name": "ipython",
    "version": 3
   },
   "file_extension": ".py",
   "mimetype": "text/x-python",
   "name": "python",
   "nbconvert_exporter": "python",
   "pygments_lexer": "ipython3",
   "version": "3.11.4"
  }
 },
 "nbformat": 4,
 "nbformat_minor": 5
}
