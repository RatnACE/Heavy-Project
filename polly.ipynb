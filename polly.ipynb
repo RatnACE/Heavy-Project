{
 "cells": [
  {
   "cell_type": "code",
   "execution_count": 2,
   "id": "33a4aa6b",
   "metadata": {},
   "outputs": [
    {
     "name": "stderr",
     "output_type": "stream",
     "text": [
      "Exception in Tkinter callback\n",
      "Traceback (most recent call last):\n",
      "  File \"C:\\Users\\ratne\\anaconda3\\envs\\py3.11\\Lib\\tkinter\\__init__.py\", line 1948, in __call__\n",
      "    return self.func(*args)\n",
      "           ^^^^^^^^^^^^^^^^\n",
      "  File \"C:\\Users\\ratne\\AppData\\Local\\Temp\\ipykernel_21344\\3101797053.py\", line 39, in select_file\n",
      "    process_file(file_path)\n",
      "  File \"C:\\Users\\ratne\\AppData\\Local\\Temp\\ipykernel_21344\\3101797053.py\", line 27, in process_file\n",
      "    subprocess.run(['output1.mp3'])\n",
      "  File \"C:\\Users\\ratne\\anaconda3\\envs\\py3.11\\Lib\\subprocess.py\", line 548, in run\n",
      "    with Popen(*popenargs, **kwargs) as process:\n",
      "         ^^^^^^^^^^^^^^^^^^^^^^^^^^^\n",
      "  File \"C:\\Users\\ratne\\anaconda3\\envs\\py3.11\\Lib\\subprocess.py\", line 1026, in __init__\n",
      "    self._execute_child(args, executable, preexec_fn, close_fds,\n",
      "  File \"C:\\Users\\ratne\\anaconda3\\envs\\py3.11\\Lib\\subprocess.py\", line 1538, in _execute_child\n",
      "    hp, ht, pid, tid = _winapi.CreateProcess(executable, args,\n",
      "                       ^^^^^^^^^^^^^^^^^^^^^^^^^^^^^^^^^^^^^^^\n",
      "OSError: [WinError 193] %1 is not a valid Win32 application\n"
     ]
    }
   ],
   "source": [
    "import boto3\n",
    "import subprocess\n",
    "\n",
    "\n",
    "def text_to_speech(text):\n",
    "    # Initialize the Amazon Polly client\n",
    "    polly_client = boto3.client('polly')\n",
    "    response = polly_client.synthesize_speech(\n",
    "        Text=text,\n",
    "        OutputFormat='mp3',\n",
    "        VoiceId='Joanna'  # Example voice ID, you can replace it with a desired voice\n",
    "    )\n",
    "\n",
    "    # Save the audio file\n",
    "    with open('output1.mp3', 'wb') as file:\n",
    "        file.write(response['AudioStream'].read())\n",
    "\n",
    "def process_file(file_path):\n",
    "    # Read the file\n",
    "    with open(file_path, 'r') as file:\n",
    "        file_contents = file.read()\n",
    "\n",
    "    # Call Polly to convert the contents to speech\n",
    "    text_to_speech(file_contents)\n",
    "\n",
    "    # Play the audio file\n",
    "    subprocess.run(['output1.mp3'])\n",
    "\n",
    "\n",
    "import tkinter as tk\n",
    "from tkinter import filedialog\n",
    "\n",
    "def select_file():\n",
    "    # Prompt the user to select a file\n",
    "    file_path = filedialog.askopenfilename()\n",
    "\n",
    "    # Update the label with the selected file's name\n",
    "    if file_path:\n",
    "        process_file(file_path)\n",
    "        print(\"done\")\n",
    "        file_name = file_path.split(\"/\")[-1]\n",
    "        output_label.config(text=file_name)\n",
    "    else:\n",
    "        output_label.config(text=\"No file selected\")\n",
    "\n",
    "# Create the main window\n",
    "window = tk.Tk()\n",
    "window.geometry(\"200x300\")\n",
    "\n",
    "# Create a button to select a file\n",
    "select_button = tk.Button(window, text=\"Select File\", command=select_file)\n",
    "select_button.pack()\n",
    "\n",
    "# Create a label to display the selected file's name\n",
    "output_label = tk.Label(window, text=\"\")\n",
    "output_label.pack()\n",
    "\n",
    "# Start the main window's event loop\n",
    "window.mainloop()\n"
   ]
  },
  {
   "cell_type": "code",
   "execution_count": null,
   "id": "b2643c95",
   "metadata": {},
   "outputs": [],
   "source": []
  },
  {
   "cell_type": "code",
   "execution_count": null,
   "id": "7aa22bca",
   "metadata": {},
   "outputs": [],
   "source": []
  },
  {
   "cell_type": "code",
   "execution_count": null,
   "id": "d729b75b",
   "metadata": {},
   "outputs": [],
   "source": []
  },
  {
   "cell_type": "code",
   "execution_count": null,
   "id": "b478258d",
   "metadata": {},
   "outputs": [],
   "source": []
  },
  {
   "cell_type": "code",
   "execution_count": null,
   "id": "b79d76f4",
   "metadata": {},
   "outputs": [],
   "source": []
  }
 ],
 "metadata": {
  "kernelspec": {
   "display_name": "Python 3 (ipykernel)",
   "language": "python",
   "name": "python3"
  },
  "language_info": {
   "codemirror_mode": {
    "name": "ipython",
    "version": 3
   },
   "file_extension": ".py",
   "mimetype": "text/x-python",
   "name": "python",
   "nbconvert_exporter": "python",
   "pygments_lexer": "ipython3",
   "version": "3.11.4"
  }
 },
 "nbformat": 4,
 "nbformat_minor": 5
}
